{
 "cells": [
  {
   "cell_type": "code",
   "execution_count": 1,
   "metadata": {
    "scrolled": true
   },
   "outputs": [],
   "source": [
    "import random"
   ]
  },
  {
   "cell_type": "code",
   "execution_count": 2,
   "metadata": {},
   "outputs": [
    {
     "name": "stdout",
     "output_type": "stream",
     "text": [
      "true\n",
      "Successfully loaded Singular\n"
     ]
    }
   ],
   "source": [
    "## load the stuff we need\n",
    "load('/Applications/SageMath/NumericalSemigroup.sage') \n",
    "load('/Applications/SageMath/KunzPoset.sage') \n",
    "facfile = '/Applications/SageMath/data/m5.fac'\n",
    "hpfile = '/Applications/SageMath/data/m5.out'\n",
    "Ps = KunzPoset.ReadFacesFromNormaliz(face_lattice_file_path=facfile, hplane_file_path=hpfile)"
   ]
  },
  {
   "cell_type": "code",
   "execution_count": 4,
   "metadata": {},
   "outputs": [
    {
     "name": "stdout",
     "output_type": "stream",
     "text": [
      "looked at  0\n",
      "looked at  1\n",
      "looked at  2\n",
      "looked at  3\n",
      "looked at  4\n",
      "looked at  5\n",
      "looked at  6\n",
      "looked at  7\n",
      "looked at  8\n",
      "looked at  9\n",
      "looked at  10\n",
      "looked at  11\n",
      "looked at  12\n",
      "looked at  13\n",
      "looked at  14\n",
      "looked at  15\n",
      "looked at  16\n",
      "looked at  17\n",
      "looked at  18\n",
      "looked at  19\n",
      "looked at  20\n",
      "looked at  21\n",
      "looked at  22\n",
      "looked at  23\n",
      "looked at  24\n",
      "looked at  25\n",
      "looked at  26\n",
      "looked at  27\n",
      "looked at  28\n",
      "looked at  29\n",
      "looked at  30\n",
      "[0. polyhedron multiplicity,   1. face dimension,    2. index of poset,   3. size of minimal prez.,   4. semigroup found]\n",
      "[[5, 4, 0, 10, [5, 36, 62, 93, 69]], [5, 3, 1, 6, [5, 26, 28, 34]], [5, 3, 2, 5, [5, 61, 67, 89]], [5, 2, 3, 3, [5, 31, 84]], [5, 3, 4, 5, [5, 96, 102, 93]], [5, 2, 5, 3, [5, 61, 103]], [5, 3, 6, 6, [5, 71, 62, 103]], [5, 2, 7, 3, [5, 46, 17]], [5, 2, 8, 5, [5, 102, 83, 121]], [5, 1, 9, 1, [5, 76]], [5, 3, 10, 6, [5, 101, 82, 44]], [5, 2, 11, 3, [5, 66, 79]], [5, 2, 12, 5, [5, 82, 64, 46]], [5, 1, 13, 2, [5, 54, 36]], [5, 3, 14, 5, [5, 81, 68, 89]], [5, 2, 15, 5, [5, 23, 59, 41]], [5, 2, 16, 3, [5, 76, 34]], [5, 1, 17, 2, [5, 44, 66]], [5, 3, 18, 5, [5, 97, 78, 49]], [5, 2, 19, 3, [5, 37, 73]], [5, 2, 20, 3, [5, 47, 74]], [5, 1, 21, 1, [5, 47]], [5, 3, 22, 6, [5, 82, 53, 69]], [5, 2, 23, 3, [5, 72, 33]], [5, 2, 24, 3, [5, 62, 88]], [5, 1, 25, 2, [5, 48, 72]], [5, 2, 26, 3, [5, 83, 44]], [5, 1, 27, 1, [5, 23]], [5, 2, 28, 5, [5, 18, 19, 17]], [5, 1, 29, 2, [5, 48, 32]], [5, 1, 30, 1, [5, 104]]]\n"
     ]
    }
   ],
   "source": [
    "\n",
    "\n",
    "mp_data = []  ##this will end up containing our results\n",
    "badFaces = []    ## enter indeces of the bad faces, if known\n",
    "chosen_dimension = 0  ## dimension of faces we're searching through\n",
    "\n",
    "\n",
    "for i in range(len(Ps)):   ##main loop. Change the range to range(start, stop) if needed.\n",
    "    P = Ps[i]\n",
    "    \n",
    "    if i in badFaces:\n",
    "        print(i,\"is of the bad faces\")\n",
    "        continue\n",
    "    \n",
    "    ## if face is not of chosen dimension:\n",
    "    #if P.Dimension() != chosen_dimension:\n",
    "        #continue\n",
    "\n",
    "    ## finding semigroups on face i  \n",
    "    Ss = P.FindSemigroups(how_many=1, max_kunz_coord=20)\n",
    "    if len(Ss) == 0:  ## bad face? \n",
    "        print(\"None found\")\n",
    "        mp_data = mp_data + [[int(str(P)[-2:]), P.Dimension(), i, \"na\", \"na\"]]\n",
    "        continue\n",
    "        \n",
    "    print(\"looked at \",i) ## some idea of where we are, to not get nervous\n",
    "    \n",
    "    \n",
    "    ## output we want: [Polyhedron multiplicity,   face dimension,    index of poset, size of minimal prez.,   semigroup found] \n",
    "    mp_data = mp_data + [[int(str(P)[-2:]), P.Dimension(), i, len(NumericalSemigroup(Ss[0]).MinimalPresentation()), Ss[0]]] \n",
    "\n",
    "print(\"[0. polyhedron multiplicity,   1. face dimension,    2. index of poset,   3. size of minimal prez.,   4. semigroup found]\")\n",
    "print(mp_data)\n",
    "\n",
    "## alternative to print output in seperate rows\n",
    "#for elem in mp_data:     \n",
    "        #print(elem)   "
   ]
  },
  {
   "cell_type": "code",
   "execution_count": null,
   "metadata": {},
   "outputs": [],
   "source": []
  }
 ],
 "metadata": {
  "kernelspec": {
   "display_name": "SageMath 9.2",
   "language": "sage",
   "name": "sagemath"
  },
  "language_info": {
   "codemirror_mode": {
    "name": "ipython",
    "version": 3
   },
   "file_extension": ".py",
   "mimetype": "text/x-python",
   "name": "python",
   "nbconvert_exporter": "python",
   "pygments_lexer": "ipython3",
   "version": "3.8.5"
  }
 },
 "nbformat": 4,
 "nbformat_minor": 4
}
