{
 "cells": [
  {
   "cell_type": "code",
   "execution_count": 17,
   "metadata": {},
   "outputs": [],
   "source": [
    "import sys\n",
    "# insert at 1, 0 is the script path (or '' in REPL)\n",
    "sys.path.insert(1, '/Applications/SageMath')\n",
    "from mp_data import data, description"
   ]
  },
  {
   "cell_type": "code",
   "execution_count": 18,
   "metadata": {
    "scrolled": true
   },
   "outputs": [
    {
     "name": "stdout",
     "output_type": "stream",
     "text": [
      "[0. polyhedron multiplicity,   1. face dimension,    2. index of poset,   3. size of minimal prez.,   4. semigroup found]\n"
     ]
    }
   ],
   "source": [
    "print(description)"
   ]
  },
  {
   "cell_type": "code",
   "execution_count": 19,
   "metadata": {
    "scrolled": false
   },
   "outputs": [
    {
     "name": "stdout",
     "output_type": "stream",
     "text": [
      "5\n",
      "[9, 41, 34, 29]\n",
      "[9, 21, 25, 29]\n",
      "[9, 131, 133, 130]\n",
      "[9, 28, 29, 26]\n",
      "[9, 172, 166, 158]\n"
     ]
    },
    {
     "ename": "IndexError",
     "evalue": "list index out of range",
     "output_type": "error",
     "traceback": [
      "\u001b[0;31m---------------------------------------------------------------------------\u001b[0m",
      "\u001b[0;31mIndexError\u001b[0m                                Traceback (most recent call last)",
      "\u001b[0;32m<ipython-input-19-e1dc90f9a976>\u001b[0m in \u001b[0;36m<module>\u001b[0;34m\u001b[0m\n\u001b[1;32m     22\u001b[0m \u001b[0mprint\u001b[0m\u001b[0;34m(\u001b[0m\u001b[0mlen\u001b[0m\u001b[0;34m(\u001b[0m\u001b[0mdata_i_want\u001b[0m\u001b[0;34m)\u001b[0m\u001b[0;34m)\u001b[0m\u001b[0;34m\u001b[0m\u001b[0;34m\u001b[0m\u001b[0m\n\u001b[1;32m     23\u001b[0m \u001b[0;32mfor\u001b[0m \u001b[0mi\u001b[0m \u001b[0;32min\u001b[0m \u001b[0mrange\u001b[0m\u001b[0;34m(\u001b[0m\u001b[0;36m100\u001b[0m\u001b[0;34m)\u001b[0m\u001b[0;34m:\u001b[0m\u001b[0;34m\u001b[0m\u001b[0;34m\u001b[0m\u001b[0m\n\u001b[0;32m---> 24\u001b[0;31m     \u001b[0mprint\u001b[0m\u001b[0;34m(\u001b[0m\u001b[0mdata_i_want\u001b[0m\u001b[0;34m[\u001b[0m\u001b[0mi\u001b[0m\u001b[0;34m]\u001b[0m\u001b[0;34m)\u001b[0m\u001b[0;34m\u001b[0m\u001b[0;34m\u001b[0m\u001b[0m\n\u001b[0m\u001b[1;32m     25\u001b[0m \u001b[0;34m\u001b[0m\u001b[0m\n\u001b[1;32m     26\u001b[0m \u001b[0;34m\u001b[0m\u001b[0m\n",
      "\u001b[0;31mIndexError\u001b[0m: list index out of range"
     ]
    }
   ],
   "source": [
    "## to get information, prune by index:\n",
    "data_i_want = []\n",
    "\n",
    "maybe = []\n",
    "\n",
    "for elem in data:\n",
    "    if elem[0] == 9 and elem[3] == 5 and elem[4][3] - elem[4][2] <= 11 and elem[4][2] - elem[4][1] <= 11 and elem[4][2] - elem[4][3] <= 11 and elem[4][1] - elem[4][2] <= 11: \n",
    "        data_i_want.append(elem[4])\n",
    "        \n",
    "    elif elem[0] == 9 and elem[3] == 5: \n",
    "        maybe.append(elem[4])\n",
    "        for elem in maybe:\n",
    "            pass\n",
    "            if elem[1]/9 == 1 or elem[1]/9 == 2 or elem[1]/9 == 3:\n",
    "                data_i_want.append(elem)\n",
    "            elif elem[2]/9 == 1 or elem[1]/9 == 2 or elem[1]/9 == 3:\n",
    "                data_i_want.append(elem)\n",
    "            elif elem[3]/9 == 1 or elem[1]/9 == 2 or elem[1]/9 == 3:\n",
    "                data_i_want.append(elem)\n",
    "\n",
    "        \n",
    "print(len(data_i_want))        \n",
    "for i in range(100):\n",
    "    print(data_i_want[i])\n",
    "\n",
    "\n",
    "\n",
    "#mylist = []\n",
    "#for elem in data_i_want:\n",
    "#    mylist.append(elem[1])\n",
    "#mylist = list(dict.fromkeys(mylist))\n",
    "#print('the face dimensions(d) of the possible pink valued minimal presentation size ',data_i_want[0][3], '(mp) in multiplicity ', data_i_want[0][0], '(m):')       \n",
    "#print(mylist)\n",
    "\n",
    "        \n",
    "\n",
    "\n",
    "    ## some examples:\n",
    "    #if elem[0] == 3:  ## all elements with polyhedron multiplicity 3\n",
    "    #if elem[1] == 2:  ## all elements with face dimension 2\n",
    "    #if elem[2] == 7:  ## all elements with poset index 7\n",
    "    #if elem[3] == 4:  ## all elements with mp size 4, \n",
    "    #if elem[3] == \"na\": ## all faces with no semigroups found \n",
    "    #if elem[4] == [6, 91, 86]:   ## search for the other element information of a specific semigroup\n",
    "    \n",
    "    ## and then any combination of the above, like so:\n",
    "    #if elem[2] in range(20,40) and elem[0] == 6:  ## all elements with poset indexes 20-40 in m6\n",
    "\n",
    "        #data_i_want.append(elem)\n",
    "#print(data_i_want)\n",
    "\n",
    "#data_i_want = []\n",
    "#for elem in data:\n",
    "#    if elem[0] == 7 and elem[3] == 7:     ## elements in m8 with mp of 13 (purple value)    \n",
    "#        data_i_want.append(elem)                \n",
    "#print('the face dimensions(d) of the possible pink valued minimal presentation sizes in multiplicity 4-7(m):')\n",
    "#print('d|m    |   purple mp')\n",
    "#for elem in data_i_want:\n",
    "#    print(elem[1], elem[0], \"       \", elem[3])    ## print face dimension\n",
    "    "
   ]
  },
  {
   "cell_type": "code",
   "execution_count": null,
   "metadata": {},
   "outputs": [],
   "source": []
  }
 ],
 "metadata": {
  "kernelspec": {
   "display_name": "Python 3",
   "language": "python",
   "name": "python3"
  },
  "language_info": {
   "codemirror_mode": {
    "name": "ipython",
    "version": 3
   },
   "file_extension": ".py",
   "mimetype": "text/x-python",
   "name": "python",
   "nbconvert_exporter": "python",
   "pygments_lexer": "ipython3",
   "version": "3.8.5"
  }
 },
 "nbformat": 4,
 "nbformat_minor": 4
}
