{
 "cells": [
  {
   "cell_type": "code",
   "execution_count": 4,
   "metadata": {},
   "outputs": [],
   "source": [
    "import sys\n",
    "# insert at 1, 0 is the script path (or '' in REPL)\n",
    "sys.path.insert(1, '/Applications/SageMath')\n",
    "from mp_data import data, description"
   ]
  },
  {
   "cell_type": "code",
   "execution_count": 5,
   "metadata": {},
   "outputs": [
    {
     "name": "stdout",
     "output_type": "stream",
     "text": [
      "[0. polyhedron multiplicity,   2. face dimension,    3. index of poset,   4. size of minimal prez.,   5. semigroup found]\n"
     ]
    }
   ],
   "source": [
    "print(description)"
   ]
  },
  {
   "cell_type": "code",
   "execution_count": 13,
   "metadata": {},
   "outputs": [
    {
     "name": "stdout",
     "output_type": "stream",
     "text": [
      "[[6, 2, 20, 2, [6, 91, 86]], [6, 1, 21, 1, [6, 37]], [6, 4, 22, 10, [6, 61, 68, 105, 41]], [6, 3, 23, 6, [6, 61, 105, 47]], [6, 3, 24, 5, [6, 37, 32, 29]], [6, 2, 25, 3, [6, 67, 125]], [6, 3, 26, 9, [6, 98, 27, 89, 151]], [6, 2, 27, 5, [6, 57, 41, 25]], [6, 3, 28, 'na', 'na'], [6, 2, 29, 'na', 'na'], [6, 2, 30, 'na', 'na'], [6, 1, 31, 'na', 'na'], [6, 4, 32, 9, [6, 67, 116, 94, 83]], [6, 3, 33, 5, [6, 109, 112, 119]], [6, 3, 34, 9, [6, 98, 100, 71, 73]], [6, 2, 35, 5, [6, 124, 95, 73]], [6, 3, 36, 6, [6, 115, 110, 53]], [6, 2, 37, 3, [6, 61, 59]], [6, 2, 38, 5, [6, 92, 71, 121]], [6, 1, 39, 'na', 'na']]\n"
     ]
    }
   ],
   "source": [
    "## to get information, prune by index:\n",
    "data_i_want = []\n",
    "\n",
    "\n",
    "for elem in data:\n",
    "    #if elem[0] == 3:   # all elements with polyhedron multiplicity 3\n",
    "    #if elem[1] == 2:  # all elements with face dimension 2\n",
    "    #if elem[2] == 7:  # all elements with poset index 7\n",
    "    #if elem[3] == 4:  # all elements with mp size 4, \n",
    "    #if elem[3] == \"na\": # all faces with no semigroups found \n",
    "    #if elem[4] == [6, 91, 86]:   # search for the other element information of a specific semigroup\n",
    "    \n",
    "    ## and then any combination of the above, like so:\n",
    "    if elem[2] in range(20,40) and elem[0] == 6: # all elements with poset indexes 20-40 in m6\n",
    "        \n",
    "        data_i_want.append(elem)\n",
    "        \n",
    "        \n",
    "print(data_i_want)\n",
    "    "
   ]
  },
  {
   "cell_type": "code",
   "execution_count": null,
   "metadata": {},
   "outputs": [],
   "source": []
  }
 ],
 "metadata": {
  "kernelspec": {
   "display_name": "Python 3",
   "language": "python",
   "name": "python3"
  },
  "language_info": {
   "codemirror_mode": {
    "name": "ipython",
    "version": 3
   },
   "file_extension": ".py",
   "mimetype": "text/x-python",
   "name": "python",
   "nbconvert_exporter": "python",
   "pygments_lexer": "ipython3",
   "version": "3.8.5"
  }
 },
 "nbformat": 4,
 "nbformat_minor": 4
}
